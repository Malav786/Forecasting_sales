{
 "cells": [
  {
   "cell_type": "code",
   "execution_count": 2,
   "id": "8bc68b17-4b4b-41e8-909f-44fe5f3086ab",
   "metadata": {},
   "outputs": [],
   "source": [
    "import pandas as pd\n",
    "import numpy as np\n",
    "import datetime as dt\n",
    "import matplotlib.pyplot as plt\n",
    "%matplotlib inline\n",
    "from sklearn.model_selection import train_test_split"
   ]
  },
  {
   "cell_type": "code",
   "execution_count": 3,
   "id": "66d5aac5-ae3c-45a5-991b-2086a21e09ae",
   "metadata": {},
   "outputs": [
    {
     "data": {
      "text/html": [
       "<div>\n",
       "<style scoped>\n",
       "    .dataframe tbody tr th:only-of-type {\n",
       "        vertical-align: middle;\n",
       "    }\n",
       "\n",
       "    .dataframe tbody tr th {\n",
       "        vertical-align: top;\n",
       "    }\n",
       "\n",
       "    .dataframe thead th {\n",
       "        text-align: right;\n",
       "    }\n",
       "</style>\n",
       "<table border=\"1\" class=\"dataframe\">\n",
       "  <thead>\n",
       "    <tr style=\"text-align: right;\">\n",
       "      <th></th>\n",
       "      <th>id</th>\n",
       "      <th>date</th>\n",
       "      <th>store_nbr</th>\n",
       "      <th>item_nbr</th>\n",
       "      <th>unit_sales</th>\n",
       "      <th>onpromotion</th>\n",
       "    </tr>\n",
       "  </thead>\n",
       "  <tbody>\n",
       "    <tr>\n",
       "      <th>0</th>\n",
       "      <td>92</td>\n",
       "      <td>01-01-2013</td>\n",
       "      <td>25</td>\n",
       "      <td>265559</td>\n",
       "      <td>2</td>\n",
       "      <td>NaN</td>\n",
       "    </tr>\n",
       "    <tr>\n",
       "      <th>1</th>\n",
       "      <td>754</td>\n",
       "      <td>02-01-2013</td>\n",
       "      <td>1</td>\n",
       "      <td>265559</td>\n",
       "      <td>36</td>\n",
       "      <td>NaN</td>\n",
       "    </tr>\n",
       "    <tr>\n",
       "      <th>2</th>\n",
       "      <td>1780</td>\n",
       "      <td>02-01-2013</td>\n",
       "      <td>2</td>\n",
       "      <td>265559</td>\n",
       "      <td>81</td>\n",
       "      <td>NaN</td>\n",
       "    </tr>\n",
       "    <tr>\n",
       "      <th>3</th>\n",
       "      <td>2896</td>\n",
       "      <td>02-01-2013</td>\n",
       "      <td>3</td>\n",
       "      <td>265559</td>\n",
       "      <td>86</td>\n",
       "      <td>NaN</td>\n",
       "    </tr>\n",
       "    <tr>\n",
       "      <th>4</th>\n",
       "      <td>4087</td>\n",
       "      <td>02-01-2013</td>\n",
       "      <td>4</td>\n",
       "      <td>265559</td>\n",
       "      <td>110</td>\n",
       "      <td>NaN</td>\n",
       "    </tr>\n",
       "  </tbody>\n",
       "</table>\n",
       "</div>"
      ],
      "text/plain": [
       "     id        date  store_nbr  item_nbr  unit_sales onpromotion\n",
       "0    92  01-01-2013         25    265559           2         NaN\n",
       "1   754  02-01-2013          1    265559          36         NaN\n",
       "2  1780  02-01-2013          2    265559          81         NaN\n",
       "3  2896  02-01-2013          3    265559          86         NaN\n",
       "4  4087  02-01-2013          4    265559         110         NaN"
      ]
     },
     "execution_count": 3,
     "metadata": {},
     "output_type": "execute_result"
    }
   ],
   "source": [
    "df=pd.read_csv('4 265559.csv')\n",
    "df.head()"
   ]
  },
  {
   "cell_type": "code",
   "execution_count": 5,
   "id": "1b4e36b2-589a-426e-aa5c-06b932c31269",
   "metadata": {},
   "outputs": [
    {
     "data": {
      "text/plain": [
       "dtype('<M8[ns]')"
      ]
     },
     "execution_count": 5,
     "metadata": {},
     "output_type": "execute_result"
    }
   ],
   "source": [
    "df['date'] = df['date'].astype('datetime64[ns]')\n",
    "df['date'].dtype"
   ]
  },
  {
   "cell_type": "code",
   "execution_count": 6,
   "id": "82b9d584-36c5-4ac5-a6e9-0888c2fa8960",
   "metadata": {},
   "outputs": [],
   "source": [
    "df['Year'] = df['date'].dt.strftime('%Y')"
   ]
  },
  {
   "cell_type": "code",
   "execution_count": 7,
   "id": "040ecaab-1ba5-4fbc-9881-f294c8abf566",
   "metadata": {},
   "outputs": [
    {
     "data": {
      "text/html": [
       "<div>\n",
       "<style scoped>\n",
       "    .dataframe tbody tr th:only-of-type {\n",
       "        vertical-align: middle;\n",
       "    }\n",
       "\n",
       "    .dataframe tbody tr th {\n",
       "        vertical-align: top;\n",
       "    }\n",
       "\n",
       "    .dataframe thead th {\n",
       "        text-align: right;\n",
       "    }\n",
       "</style>\n",
       "<table border=\"1\" class=\"dataframe\">\n",
       "  <thead>\n",
       "    <tr style=\"text-align: right;\">\n",
       "      <th></th>\n",
       "      <th>id</th>\n",
       "      <th>date</th>\n",
       "      <th>store_nbr</th>\n",
       "      <th>item_nbr</th>\n",
       "      <th>unit_sales</th>\n",
       "      <th>onpromotion</th>\n",
       "      <th>Year</th>\n",
       "    </tr>\n",
       "  </thead>\n",
       "  <tbody>\n",
       "    <tr>\n",
       "      <th>0</th>\n",
       "      <td>92</td>\n",
       "      <td>2013-01-01</td>\n",
       "      <td>25</td>\n",
       "      <td>265559</td>\n",
       "      <td>2</td>\n",
       "      <td>NaN</td>\n",
       "      <td>2013</td>\n",
       "    </tr>\n",
       "    <tr>\n",
       "      <th>1</th>\n",
       "      <td>754</td>\n",
       "      <td>2013-02-01</td>\n",
       "      <td>1</td>\n",
       "      <td>265559</td>\n",
       "      <td>36</td>\n",
       "      <td>NaN</td>\n",
       "      <td>2013</td>\n",
       "    </tr>\n",
       "    <tr>\n",
       "      <th>2</th>\n",
       "      <td>1780</td>\n",
       "      <td>2013-02-01</td>\n",
       "      <td>2</td>\n",
       "      <td>265559</td>\n",
       "      <td>81</td>\n",
       "      <td>NaN</td>\n",
       "      <td>2013</td>\n",
       "    </tr>\n",
       "    <tr>\n",
       "      <th>3</th>\n",
       "      <td>2896</td>\n",
       "      <td>2013-02-01</td>\n",
       "      <td>3</td>\n",
       "      <td>265559</td>\n",
       "      <td>86</td>\n",
       "      <td>NaN</td>\n",
       "      <td>2013</td>\n",
       "    </tr>\n",
       "    <tr>\n",
       "      <th>4</th>\n",
       "      <td>4087</td>\n",
       "      <td>2013-02-01</td>\n",
       "      <td>4</td>\n",
       "      <td>265559</td>\n",
       "      <td>110</td>\n",
       "      <td>NaN</td>\n",
       "      <td>2013</td>\n",
       "    </tr>\n",
       "  </tbody>\n",
       "</table>\n",
       "</div>"
      ],
      "text/plain": [
       "     id       date  store_nbr  item_nbr  unit_sales onpromotion  Year\n",
       "0    92 2013-01-01         25    265559           2         NaN  2013\n",
       "1   754 2013-02-01          1    265559          36         NaN  2013\n",
       "2  1780 2013-02-01          2    265559          81         NaN  2013\n",
       "3  2896 2013-02-01          3    265559          86         NaN  2013\n",
       "4  4087 2013-02-01          4    265559         110         NaN  2013"
      ]
     },
     "execution_count": 7,
     "metadata": {},
     "output_type": "execute_result"
    }
   ],
   "source": [
    "df.head()"
   ]
  },
  {
   "cell_type": "code",
   "execution_count": 8,
   "id": "95be9d73-e68e-40c0-afdc-143581507bc1",
   "metadata": {},
   "outputs": [],
   "source": [
    "df['month'] = pd.DatetimeIndex(df['date']).month"
   ]
  },
  {
   "cell_type": "code",
   "execution_count": 9,
   "id": "9bcef506-9b60-4420-b7a8-ba80026e2dec",
   "metadata": {},
   "outputs": [
    {
     "data": {
      "text/html": [
       "<div>\n",
       "<style scoped>\n",
       "    .dataframe tbody tr th:only-of-type {\n",
       "        vertical-align: middle;\n",
       "    }\n",
       "\n",
       "    .dataframe tbody tr th {\n",
       "        vertical-align: top;\n",
       "    }\n",
       "\n",
       "    .dataframe thead th {\n",
       "        text-align: right;\n",
       "    }\n",
       "</style>\n",
       "<table border=\"1\" class=\"dataframe\">\n",
       "  <thead>\n",
       "    <tr style=\"text-align: right;\">\n",
       "      <th></th>\n",
       "      <th>id</th>\n",
       "      <th>date</th>\n",
       "      <th>store_nbr</th>\n",
       "      <th>item_nbr</th>\n",
       "      <th>unit_sales</th>\n",
       "      <th>onpromotion</th>\n",
       "      <th>Year</th>\n",
       "      <th>month</th>\n",
       "    </tr>\n",
       "  </thead>\n",
       "  <tbody>\n",
       "    <tr>\n",
       "      <th>0</th>\n",
       "      <td>92</td>\n",
       "      <td>2013-01-01</td>\n",
       "      <td>25</td>\n",
       "      <td>265559</td>\n",
       "      <td>2</td>\n",
       "      <td>NaN</td>\n",
       "      <td>2013</td>\n",
       "      <td>1</td>\n",
       "    </tr>\n",
       "    <tr>\n",
       "      <th>1</th>\n",
       "      <td>754</td>\n",
       "      <td>2013-02-01</td>\n",
       "      <td>1</td>\n",
       "      <td>265559</td>\n",
       "      <td>36</td>\n",
       "      <td>NaN</td>\n",
       "      <td>2013</td>\n",
       "      <td>2</td>\n",
       "    </tr>\n",
       "    <tr>\n",
       "      <th>2</th>\n",
       "      <td>1780</td>\n",
       "      <td>2013-02-01</td>\n",
       "      <td>2</td>\n",
       "      <td>265559</td>\n",
       "      <td>81</td>\n",
       "      <td>NaN</td>\n",
       "      <td>2013</td>\n",
       "      <td>2</td>\n",
       "    </tr>\n",
       "    <tr>\n",
       "      <th>3</th>\n",
       "      <td>2896</td>\n",
       "      <td>2013-02-01</td>\n",
       "      <td>3</td>\n",
       "      <td>265559</td>\n",
       "      <td>86</td>\n",
       "      <td>NaN</td>\n",
       "      <td>2013</td>\n",
       "      <td>2</td>\n",
       "    </tr>\n",
       "    <tr>\n",
       "      <th>4</th>\n",
       "      <td>4087</td>\n",
       "      <td>2013-02-01</td>\n",
       "      <td>4</td>\n",
       "      <td>265559</td>\n",
       "      <td>110</td>\n",
       "      <td>NaN</td>\n",
       "      <td>2013</td>\n",
       "      <td>2</td>\n",
       "    </tr>\n",
       "  </tbody>\n",
       "</table>\n",
       "</div>"
      ],
      "text/plain": [
       "     id       date  store_nbr  item_nbr  unit_sales onpromotion  Year  month\n",
       "0    92 2013-01-01         25    265559           2         NaN  2013      1\n",
       "1   754 2013-02-01          1    265559          36         NaN  2013      2\n",
       "2  1780 2013-02-01          2    265559          81         NaN  2013      2\n",
       "3  2896 2013-02-01          3    265559          86         NaN  2013      2\n",
       "4  4087 2013-02-01          4    265559         110         NaN  2013      2"
      ]
     },
     "execution_count": 9,
     "metadata": {},
     "output_type": "execute_result"
    }
   ],
   "source": [
    "df.head()"
   ]
  },
  {
   "cell_type": "code",
   "execution_count": 10,
   "id": "9ee8d204-a796-4ffe-bf1d-59b4c55a220c",
   "metadata": {},
   "outputs": [
    {
     "data": {
      "text/html": [
       "<div>\n",
       "<style scoped>\n",
       "    .dataframe tbody tr th:only-of-type {\n",
       "        vertical-align: middle;\n",
       "    }\n",
       "\n",
       "    .dataframe tbody tr th {\n",
       "        vertical-align: top;\n",
       "    }\n",
       "\n",
       "    .dataframe thead th {\n",
       "        text-align: right;\n",
       "    }\n",
       "</style>\n",
       "<table border=\"1\" class=\"dataframe\">\n",
       "  <thead>\n",
       "    <tr style=\"text-align: right;\">\n",
       "      <th></th>\n",
       "      <th>id</th>\n",
       "      <th>date</th>\n",
       "      <th>store_nbr</th>\n",
       "      <th>item_nbr</th>\n",
       "      <th>unit_sales</th>\n",
       "      <th>onpromotion</th>\n",
       "      <th>Year</th>\n",
       "      <th>month</th>\n",
       "      <th>weekday</th>\n",
       "    </tr>\n",
       "  </thead>\n",
       "  <tbody>\n",
       "    <tr>\n",
       "      <th>0</th>\n",
       "      <td>92</td>\n",
       "      <td>2013-01-01</td>\n",
       "      <td>25</td>\n",
       "      <td>265559</td>\n",
       "      <td>2</td>\n",
       "      <td>NaN</td>\n",
       "      <td>2013</td>\n",
       "      <td>1</td>\n",
       "      <td>1</td>\n",
       "    </tr>\n",
       "    <tr>\n",
       "      <th>1</th>\n",
       "      <td>754</td>\n",
       "      <td>2013-02-01</td>\n",
       "      <td>1</td>\n",
       "      <td>265559</td>\n",
       "      <td>36</td>\n",
       "      <td>NaN</td>\n",
       "      <td>2013</td>\n",
       "      <td>2</td>\n",
       "      <td>4</td>\n",
       "    </tr>\n",
       "    <tr>\n",
       "      <th>2</th>\n",
       "      <td>1780</td>\n",
       "      <td>2013-02-01</td>\n",
       "      <td>2</td>\n",
       "      <td>265559</td>\n",
       "      <td>81</td>\n",
       "      <td>NaN</td>\n",
       "      <td>2013</td>\n",
       "      <td>2</td>\n",
       "      <td>4</td>\n",
       "    </tr>\n",
       "    <tr>\n",
       "      <th>3</th>\n",
       "      <td>2896</td>\n",
       "      <td>2013-02-01</td>\n",
       "      <td>3</td>\n",
       "      <td>265559</td>\n",
       "      <td>86</td>\n",
       "      <td>NaN</td>\n",
       "      <td>2013</td>\n",
       "      <td>2</td>\n",
       "      <td>4</td>\n",
       "    </tr>\n",
       "    <tr>\n",
       "      <th>4</th>\n",
       "      <td>4087</td>\n",
       "      <td>2013-02-01</td>\n",
       "      <td>4</td>\n",
       "      <td>265559</td>\n",
       "      <td>110</td>\n",
       "      <td>NaN</td>\n",
       "      <td>2013</td>\n",
       "      <td>2</td>\n",
       "      <td>4</td>\n",
       "    </tr>\n",
       "  </tbody>\n",
       "</table>\n",
       "</div>"
      ],
      "text/plain": [
       "     id       date  store_nbr  item_nbr  unit_sales onpromotion  Year  month  \\\n",
       "0    92 2013-01-01         25    265559           2         NaN  2013      1   \n",
       "1   754 2013-02-01          1    265559          36         NaN  2013      2   \n",
       "2  1780 2013-02-01          2    265559          81         NaN  2013      2   \n",
       "3  2896 2013-02-01          3    265559          86         NaN  2013      2   \n",
       "4  4087 2013-02-01          4    265559         110         NaN  2013      2   \n",
       "\n",
       "   weekday  \n",
       "0        1  \n",
       "1        4  \n",
       "2        4  \n",
       "3        4  \n",
       "4        4  "
      ]
     },
     "execution_count": 10,
     "metadata": {},
     "output_type": "execute_result"
    }
   ],
   "source": [
    "df['weekday'] = df['date'].dt.dayofweek\n",
    "df.head()"
   ]
  },
  {
   "cell_type": "code",
   "execution_count": 11,
   "id": "0b5f8114-cf4b-412f-9fda-90781c37745a",
   "metadata": {},
   "outputs": [
    {
     "data": {
      "text/html": [
       "<div>\n",
       "<style scoped>\n",
       "    .dataframe tbody tr th:only-of-type {\n",
       "        vertical-align: middle;\n",
       "    }\n",
       "\n",
       "    .dataframe tbody tr th {\n",
       "        vertical-align: top;\n",
       "    }\n",
       "\n",
       "    .dataframe thead th {\n",
       "        text-align: right;\n",
       "    }\n",
       "</style>\n",
       "<table border=\"1\" class=\"dataframe\">\n",
       "  <thead>\n",
       "    <tr style=\"text-align: right;\">\n",
       "      <th></th>\n",
       "      <th>date</th>\n",
       "      <th>type</th>\n",
       "      <th>locale</th>\n",
       "      <th>locale_name</th>\n",
       "      <th>description</th>\n",
       "      <th>transferred</th>\n",
       "    </tr>\n",
       "  </thead>\n",
       "  <tbody>\n",
       "    <tr>\n",
       "      <th>0</th>\n",
       "      <td>2012-03-02</td>\n",
       "      <td>Holiday</td>\n",
       "      <td>Local</td>\n",
       "      <td>Manta</td>\n",
       "      <td>Fundacion de Manta</td>\n",
       "      <td>False</td>\n",
       "    </tr>\n",
       "    <tr>\n",
       "      <th>1</th>\n",
       "      <td>2012-04-01</td>\n",
       "      <td>Holiday</td>\n",
       "      <td>Regional</td>\n",
       "      <td>Cotopaxi</td>\n",
       "      <td>Provincializacion de Cotopaxi</td>\n",
       "      <td>False</td>\n",
       "    </tr>\n",
       "    <tr>\n",
       "      <th>2</th>\n",
       "      <td>2012-04-12</td>\n",
       "      <td>Holiday</td>\n",
       "      <td>Local</td>\n",
       "      <td>Cuenca</td>\n",
       "      <td>Fundacion de Cuenca</td>\n",
       "      <td>False</td>\n",
       "    </tr>\n",
       "    <tr>\n",
       "      <th>3</th>\n",
       "      <td>2012-04-14</td>\n",
       "      <td>Holiday</td>\n",
       "      <td>Local</td>\n",
       "      <td>Libertad</td>\n",
       "      <td>Cantonizacion de Libertad</td>\n",
       "      <td>False</td>\n",
       "    </tr>\n",
       "    <tr>\n",
       "      <th>4</th>\n",
       "      <td>2012-04-21</td>\n",
       "      <td>Holiday</td>\n",
       "      <td>Local</td>\n",
       "      <td>Riobamba</td>\n",
       "      <td>Cantonizacion de Riobamba</td>\n",
       "      <td>False</td>\n",
       "    </tr>\n",
       "  </tbody>\n",
       "</table>\n",
       "</div>"
      ],
      "text/plain": [
       "         date     type    locale locale_name                    description  \\\n",
       "0  2012-03-02  Holiday     Local       Manta             Fundacion de Manta   \n",
       "1  2012-04-01  Holiday  Regional    Cotopaxi  Provincializacion de Cotopaxi   \n",
       "2  2012-04-12  Holiday     Local      Cuenca            Fundacion de Cuenca   \n",
       "3  2012-04-14  Holiday     Local    Libertad      Cantonizacion de Libertad   \n",
       "4  2012-04-21  Holiday     Local    Riobamba      Cantonizacion de Riobamba   \n",
       "\n",
       "   transferred  \n",
       "0        False  \n",
       "1        False  \n",
       "2        False  \n",
       "3        False  \n",
       "4        False  "
      ]
     },
     "execution_count": 11,
     "metadata": {},
     "output_type": "execute_result"
    }
   ],
   "source": [
    "df_holiday=pd.read_csv('holidays_events.csv')\n",
    "df_holiday.head()"
   ]
  },
  {
   "cell_type": "code",
   "execution_count": 12,
   "id": "2d6d6378-240b-40aa-abc3-38ad5c9c44ed",
   "metadata": {},
   "outputs": [
    {
     "data": {
      "text/plain": [
       "dtype('<M8[ns]')"
      ]
     },
     "execution_count": 12,
     "metadata": {},
     "output_type": "execute_result"
    }
   ],
   "source": [
    "df1=df['date']\n",
    "df_holiday['date'] = df_holiday['date'].astype('datetime64[ns]')\n",
    "df2=df_holiday['date']\n",
    "df1.dtype"
   ]
  },
  {
   "cell_type": "code",
   "execution_count": 13,
   "id": "283c0a7c-0818-4f0a-a1d1-f0dcc61c1b63",
   "metadata": {},
   "outputs": [],
   "source": [
    "df_final_holiday=df.set_index(df.date.dt.date).join(df_holiday.set_index('date')).reset_index(drop=True)"
   ]
  },
  {
   "cell_type": "code",
   "execution_count": 14,
   "id": "db140055-98ad-4bfc-960f-a67d075a63cf",
   "metadata": {},
   "outputs": [
    {
     "data": {
      "text/html": [
       "<div>\n",
       "<style scoped>\n",
       "    .dataframe tbody tr th:only-of-type {\n",
       "        vertical-align: middle;\n",
       "    }\n",
       "\n",
       "    .dataframe tbody tr th {\n",
       "        vertical-align: top;\n",
       "    }\n",
       "\n",
       "    .dataframe thead th {\n",
       "        text-align: right;\n",
       "    }\n",
       "</style>\n",
       "<table border=\"1\" class=\"dataframe\">\n",
       "  <thead>\n",
       "    <tr style=\"text-align: right;\">\n",
       "      <th></th>\n",
       "      <th>id</th>\n",
       "      <th>date</th>\n",
       "      <th>store_nbr</th>\n",
       "      <th>item_nbr</th>\n",
       "      <th>unit_sales</th>\n",
       "      <th>onpromotion</th>\n",
       "      <th>Year</th>\n",
       "      <th>month</th>\n",
       "      <th>weekday</th>\n",
       "      <th>type</th>\n",
       "      <th>locale</th>\n",
       "      <th>locale_name</th>\n",
       "      <th>description</th>\n",
       "      <th>transferred</th>\n",
       "    </tr>\n",
       "  </thead>\n",
       "  <tbody>\n",
       "    <tr>\n",
       "      <th>0</th>\n",
       "      <td>92</td>\n",
       "      <td>2013-01-01</td>\n",
       "      <td>25</td>\n",
       "      <td>265559</td>\n",
       "      <td>2</td>\n",
       "      <td>NaN</td>\n",
       "      <td>2013</td>\n",
       "      <td>1</td>\n",
       "      <td>1</td>\n",
       "      <td>Holiday</td>\n",
       "      <td>National</td>\n",
       "      <td>Ecuador</td>\n",
       "      <td>Primer dia del ano</td>\n",
       "      <td>False</td>\n",
       "    </tr>\n",
       "    <tr>\n",
       "      <th>1</th>\n",
       "      <td>1212123</td>\n",
       "      <td>2013-01-02</td>\n",
       "      <td>1</td>\n",
       "      <td>265559</td>\n",
       "      <td>19</td>\n",
       "      <td>NaN</td>\n",
       "      <td>2013</td>\n",
       "      <td>1</td>\n",
       "      <td>2</td>\n",
       "      <td>NaN</td>\n",
       "      <td>NaN</td>\n",
       "      <td>NaN</td>\n",
       "      <td>NaN</td>\n",
       "      <td>NaN</td>\n",
       "    </tr>\n",
       "    <tr>\n",
       "      <th>2</th>\n",
       "      <td>1213150</td>\n",
       "      <td>2013-01-02</td>\n",
       "      <td>2</td>\n",
       "      <td>265559</td>\n",
       "      <td>45</td>\n",
       "      <td>NaN</td>\n",
       "      <td>2013</td>\n",
       "      <td>1</td>\n",
       "      <td>2</td>\n",
       "      <td>NaN</td>\n",
       "      <td>NaN</td>\n",
       "      <td>NaN</td>\n",
       "      <td>NaN</td>\n",
       "      <td>NaN</td>\n",
       "    </tr>\n",
       "    <tr>\n",
       "      <th>3</th>\n",
       "      <td>1214264</td>\n",
       "      <td>2013-01-02</td>\n",
       "      <td>3</td>\n",
       "      <td>265559</td>\n",
       "      <td>69</td>\n",
       "      <td>NaN</td>\n",
       "      <td>2013</td>\n",
       "      <td>1</td>\n",
       "      <td>2</td>\n",
       "      <td>NaN</td>\n",
       "      <td>NaN</td>\n",
       "      <td>NaN</td>\n",
       "      <td>NaN</td>\n",
       "      <td>NaN</td>\n",
       "    </tr>\n",
       "    <tr>\n",
       "      <th>4</th>\n",
       "      <td>1215483</td>\n",
       "      <td>2013-01-02</td>\n",
       "      <td>4</td>\n",
       "      <td>265559</td>\n",
       "      <td>54</td>\n",
       "      <td>NaN</td>\n",
       "      <td>2013</td>\n",
       "      <td>1</td>\n",
       "      <td>2</td>\n",
       "      <td>NaN</td>\n",
       "      <td>NaN</td>\n",
       "      <td>NaN</td>\n",
       "      <td>NaN</td>\n",
       "      <td>NaN</td>\n",
       "    </tr>\n",
       "  </tbody>\n",
       "</table>\n",
       "</div>"
      ],
      "text/plain": [
       "        id       date  store_nbr  item_nbr  unit_sales onpromotion  Year  \\\n",
       "0       92 2013-01-01         25    265559           2         NaN  2013   \n",
       "1  1212123 2013-01-02          1    265559          19         NaN  2013   \n",
       "2  1213150 2013-01-02          2    265559          45         NaN  2013   \n",
       "3  1214264 2013-01-02          3    265559          69         NaN  2013   \n",
       "4  1215483 2013-01-02          4    265559          54         NaN  2013   \n",
       "\n",
       "   month  weekday     type    locale locale_name         description  \\\n",
       "0      1        1  Holiday  National     Ecuador  Primer dia del ano   \n",
       "1      1        2      NaN       NaN         NaN                 NaN   \n",
       "2      1        2      NaN       NaN         NaN                 NaN   \n",
       "3      1        2      NaN       NaN         NaN                 NaN   \n",
       "4      1        2      NaN       NaN         NaN                 NaN   \n",
       "\n",
       "  transferred  \n",
       "0       False  \n",
       "1         NaN  \n",
       "2         NaN  \n",
       "3         NaN  \n",
       "4         NaN  "
      ]
     },
     "execution_count": 14,
     "metadata": {},
     "output_type": "execute_result"
    }
   ],
   "source": [
    "df_final_holiday.head()"
   ]
  },
  {
   "cell_type": "code",
   "execution_count": 15,
   "id": "50b1dde4-35c9-4fe9-a698-819de560bc9a",
   "metadata": {},
   "outputs": [],
   "source": [
    "df_final_holiday.to_csv(\"df_final_holidays.csv\")"
   ]
  },
  {
   "cell_type": "code",
   "execution_count": 16,
   "id": "63e9aa76-bb82-458a-89e0-996b311cd776",
   "metadata": {},
   "outputs": [
    {
     "name": "stderr",
     "output_type": "stream",
     "text": [
      "C:\\Users\\MALAV\\anaconda3\\lib\\site-packages\\pandas\\io\\formats\\style.py:3554: RuntimeWarning: All-NaN slice encountered\n",
      "  smin = np.nanmin(gmap) if vmin is None else vmin\n",
      "C:\\Users\\MALAV\\anaconda3\\lib\\site-packages\\pandas\\io\\formats\\style.py:3555: RuntimeWarning: All-NaN slice encountered\n",
      "  smax = np.nanmax(gmap) if vmax is None else vmax\n"
     ]
    },
    {
     "data": {
      "text/html": [
       "<style type=\"text/css\">\n",
       "#T_2c020_row0_col0, #T_2c020_row1_col1, #T_2c020_row3_col3, #T_2c020_row4_col4, #T_2c020_row5_col5 {\n",
       "  background-color: #b40426;\n",
       "  color: #f1f1f1;\n",
       "}\n",
       "#T_2c020_row0_col1, #T_2c020_row1_col0 {\n",
       "  background-color: #3f53c6;\n",
       "  color: #f1f1f1;\n",
       "}\n",
       "#T_2c020_row0_col2, #T_2c020_row1_col2, #T_2c020_row2_col0, #T_2c020_row2_col1, #T_2c020_row2_col2, #T_2c020_row2_col3, #T_2c020_row2_col4, #T_2c020_row2_col5, #T_2c020_row3_col2, #T_2c020_row4_col2, #T_2c020_row5_col2 {\n",
       "  background-color: #000000;\n",
       "  color: #f1f1f1;\n",
       "}\n",
       "#T_2c020_row0_col3 {\n",
       "  background-color: #4358cb;\n",
       "  color: #f1f1f1;\n",
       "}\n",
       "#T_2c020_row0_col4 {\n",
       "  background-color: #4961d2;\n",
       "  color: #f1f1f1;\n",
       "}\n",
       "#T_2c020_row0_col5 {\n",
       "  background-color: #3d50c3;\n",
       "  color: #f1f1f1;\n",
       "}\n",
       "#T_2c020_row1_col3 {\n",
       "  background-color: #5977e3;\n",
       "  color: #f1f1f1;\n",
       "}\n",
       "#T_2c020_row1_col4 {\n",
       "  background-color: #445acc;\n",
       "  color: #f1f1f1;\n",
       "}\n",
       "#T_2c020_row1_col5, #T_2c020_row5_col0 {\n",
       "  background-color: #3c4ec2;\n",
       "  color: #f1f1f1;\n",
       "}\n",
       "#T_2c020_row3_col0, #T_2c020_row3_col4, #T_2c020_row4_col1, #T_2c020_row4_col3, #T_2c020_row4_col5, #T_2c020_row5_col1 {\n",
       "  background-color: #3b4cc0;\n",
       "  color: #f1f1f1;\n",
       "}\n",
       "#T_2c020_row3_col1 {\n",
       "  background-color: #506bda;\n",
       "  color: #f1f1f1;\n",
       "}\n",
       "#T_2c020_row3_col5 {\n",
       "  background-color: #455cce;\n",
       "  color: #f1f1f1;\n",
       "}\n",
       "#T_2c020_row4_col0 {\n",
       "  background-color: #4055c8;\n",
       "  color: #f1f1f1;\n",
       "}\n",
       "#T_2c020_row5_col3 {\n",
       "  background-color: #4e68d8;\n",
       "  color: #f1f1f1;\n",
       "}\n",
       "#T_2c020_row5_col4 {\n",
       "  background-color: #4257c9;\n",
       "  color: #f1f1f1;\n",
       "}\n",
       "</style>\n",
       "<table id=\"T_2c020\">\n",
       "  <thead>\n",
       "    <tr>\n",
       "      <th class=\"blank level0\" >&nbsp;</th>\n",
       "      <th id=\"T_2c020_level0_col0\" class=\"col_heading level0 col0\" >id</th>\n",
       "      <th id=\"T_2c020_level0_col1\" class=\"col_heading level0 col1\" >store_nbr</th>\n",
       "      <th id=\"T_2c020_level0_col2\" class=\"col_heading level0 col2\" >item_nbr</th>\n",
       "      <th id=\"T_2c020_level0_col3\" class=\"col_heading level0 col3\" >unit_sales</th>\n",
       "      <th id=\"T_2c020_level0_col4\" class=\"col_heading level0 col4\" >month</th>\n",
       "      <th id=\"T_2c020_level0_col5\" class=\"col_heading level0 col5\" >weekday</th>\n",
       "    </tr>\n",
       "  </thead>\n",
       "  <tbody>\n",
       "    <tr>\n",
       "      <th id=\"T_2c020_level0_row0\" class=\"row_heading level0 row0\" >id</th>\n",
       "      <td id=\"T_2c020_row0_col0\" class=\"data row0 col0\" >1.000000</td>\n",
       "      <td id=\"T_2c020_row0_col1\" class=\"data row0 col1\" >0.017541</td>\n",
       "      <td id=\"T_2c020_row0_col2\" class=\"data row0 col2\" >nan</td>\n",
       "      <td id=\"T_2c020_row0_col3\" class=\"data row0 col3\" >-0.001077</td>\n",
       "      <td id=\"T_2c020_row0_col4\" class=\"data row0 col4\" >0.019228</td>\n",
       "      <td id=\"T_2c020_row0_col5\" class=\"data row0 col5\" >0.005202</td>\n",
       "    </tr>\n",
       "    <tr>\n",
       "      <th id=\"T_2c020_level0_row1\" class=\"row_heading level0 row1\" >store_nbr</th>\n",
       "      <td id=\"T_2c020_row1_col0\" class=\"data row1 col0\" >0.017541</td>\n",
       "      <td id=\"T_2c020_row1_col1\" class=\"data row1 col1\" >1.000000</td>\n",
       "      <td id=\"T_2c020_row1_col2\" class=\"data row1 col2\" >nan</td>\n",
       "      <td id=\"T_2c020_row1_col3\" class=\"data row1 col3\" >0.073010</td>\n",
       "      <td id=\"T_2c020_row1_col4\" class=\"data row1 col4\" >0.001816</td>\n",
       "      <td id=\"T_2c020_row1_col5\" class=\"data row1 col5\" >0.000368</td>\n",
       "    </tr>\n",
       "    <tr>\n",
       "      <th id=\"T_2c020_level0_row2\" class=\"row_heading level0 row2\" >item_nbr</th>\n",
       "      <td id=\"T_2c020_row2_col0\" class=\"data row2 col0\" >nan</td>\n",
       "      <td id=\"T_2c020_row2_col1\" class=\"data row2 col1\" >nan</td>\n",
       "      <td id=\"T_2c020_row2_col2\" class=\"data row2 col2\" >nan</td>\n",
       "      <td id=\"T_2c020_row2_col3\" class=\"data row2 col3\" >nan</td>\n",
       "      <td id=\"T_2c020_row2_col4\" class=\"data row2 col4\" >nan</td>\n",
       "      <td id=\"T_2c020_row2_col5\" class=\"data row2 col5\" >nan</td>\n",
       "    </tr>\n",
       "    <tr>\n",
       "      <th id=\"T_2c020_level0_row3\" class=\"row_heading level0 row3\" >unit_sales</th>\n",
       "      <td id=\"T_2c020_row3_col0\" class=\"data row3 col0\" >-0.001077</td>\n",
       "      <td id=\"T_2c020_row3_col1\" class=\"data row3 col1\" >0.073010</td>\n",
       "      <td id=\"T_2c020_row3_col2\" class=\"data row3 col2\" >nan</td>\n",
       "      <td id=\"T_2c020_row3_col3\" class=\"data row3 col3\" >1.000000</td>\n",
       "      <td id=\"T_2c020_row3_col4\" class=\"data row3 col4\" >-0.031658</td>\n",
       "      <td id=\"T_2c020_row3_col5\" class=\"data row3 col5\" >0.033657</td>\n",
       "    </tr>\n",
       "    <tr>\n",
       "      <th id=\"T_2c020_level0_row4\" class=\"row_heading level0 row4\" >month</th>\n",
       "      <td id=\"T_2c020_row4_col0\" class=\"data row4 col0\" >0.019228</td>\n",
       "      <td id=\"T_2c020_row4_col1\" class=\"data row4 col1\" >0.001816</td>\n",
       "      <td id=\"T_2c020_row4_col2\" class=\"data row4 col2\" >nan</td>\n",
       "      <td id=\"T_2c020_row4_col3\" class=\"data row4 col3\" >-0.031658</td>\n",
       "      <td id=\"T_2c020_row4_col4\" class=\"data row4 col4\" >1.000000</td>\n",
       "      <td id=\"T_2c020_row4_col5\" class=\"data row4 col5\" >-0.004024</td>\n",
       "    </tr>\n",
       "    <tr>\n",
       "      <th id=\"T_2c020_level0_row5\" class=\"row_heading level0 row5\" >weekday</th>\n",
       "      <td id=\"T_2c020_row5_col0\" class=\"data row5 col0\" >0.005202</td>\n",
       "      <td id=\"T_2c020_row5_col1\" class=\"data row5 col1\" >0.000368</td>\n",
       "      <td id=\"T_2c020_row5_col2\" class=\"data row5 col2\" >nan</td>\n",
       "      <td id=\"T_2c020_row5_col3\" class=\"data row5 col3\" >0.033657</td>\n",
       "      <td id=\"T_2c020_row5_col4\" class=\"data row5 col4\" >-0.004024</td>\n",
       "      <td id=\"T_2c020_row5_col5\" class=\"data row5 col5\" >1.000000</td>\n",
       "    </tr>\n",
       "  </tbody>\n",
       "</table>\n"
      ],
      "text/plain": [
       "<pandas.io.formats.style.Styler at 0x13cf960ed00>"
      ]
     },
     "execution_count": 16,
     "metadata": {},
     "output_type": "execute_result"
    }
   ],
   "source": [
    "corr = df_final_holiday.corr()\n",
    "corr.style.background_gradient(cmap='coolwarm')"
   ]
  },
  {
   "cell_type": "code",
   "execution_count": 17,
   "id": "32b58a4b-53a3-4512-af29-dc55c1fe4bb3",
   "metadata": {},
   "outputs": [
    {
     "data": {
      "text/plain": [
       "id                      int64\n",
       "date           datetime64[ns]\n",
       "store_nbr               int64\n",
       "item_nbr                int64\n",
       "unit_sales              int64\n",
       "onpromotion            object\n",
       "Year                   object\n",
       "month                   int64\n",
       "weekday                 int64\n",
       "type                   object\n",
       "locale                 object\n",
       "locale_name            object\n",
       "description            object\n",
       "transferred            object\n",
       "dtype: object"
      ]
     },
     "execution_count": 17,
     "metadata": {},
     "output_type": "execute_result"
    }
   ],
   "source": [
    "df_final_holiday.dtypes"
   ]
  },
  {
   "cell_type": "code",
   "execution_count": 18,
   "id": "8643bcbb-1755-451a-97ea-46d5d5fa7b84",
   "metadata": {},
   "outputs": [],
   "source": [
    "df_final_holiday['Year'] = df_final_holiday['Year'].apply(pd.to_numeric)\n",
    "#df_final_holiday['Year'].astype(int)"
   ]
  },
  {
   "cell_type": "code",
   "execution_count": 19,
   "id": "cb2af688-2e28-4bb1-8a90-55078283ca03",
   "metadata": {},
   "outputs": [
    {
     "data": {
      "text/html": [
       "<style type=\"text/css\">\n",
       "#T_c5b55_row0_col0, #T_c5b55_row1_col1, #T_c5b55_row3_col3, #T_c5b55_row4_col4, #T_c5b55_row5_col5, #T_c5b55_row6_col6 {\n",
       "  background-color: #b40426;\n",
       "  color: #f1f1f1;\n",
       "}\n",
       "#T_c5b55_row0_col1, #T_c5b55_row1_col0, #T_c5b55_row4_col1 {\n",
       "  background-color: #3f53c6;\n",
       "  color: #f1f1f1;\n",
       "}\n",
       "#T_c5b55_row0_col2, #T_c5b55_row1_col2, #T_c5b55_row2_col0, #T_c5b55_row2_col1, #T_c5b55_row2_col2, #T_c5b55_row2_col3, #T_c5b55_row2_col4, #T_c5b55_row2_col5, #T_c5b55_row2_col6, #T_c5b55_row3_col2, #T_c5b55_row4_col2, #T_c5b55_row5_col2, #T_c5b55_row6_col2 {\n",
       "  background-color: #000000;\n",
       "  color: #f1f1f1;\n",
       "}\n",
       "#T_c5b55_row0_col3 {\n",
       "  background-color: #4358cb;\n",
       "  color: #f1f1f1;\n",
       "}\n",
       "#T_c5b55_row0_col4, #T_c5b55_row4_col0 {\n",
       "  background-color: #bd1f2d;\n",
       "  color: #f1f1f1;\n",
       "}\n",
       "#T_c5b55_row0_col5 {\n",
       "  background-color: #5a78e4;\n",
       "  color: #f1f1f1;\n",
       "}\n",
       "#T_c5b55_row0_col6, #T_c5b55_row4_col6 {\n",
       "  background-color: #3d50c3;\n",
       "  color: #f1f1f1;\n",
       "}\n",
       "#T_c5b55_row1_col3, #T_c5b55_row1_col4 {\n",
       "  background-color: #5977e3;\n",
       "  color: #f1f1f1;\n",
       "}\n",
       "#T_c5b55_row1_col5, #T_c5b55_row3_col4 {\n",
       "  background-color: #5572df;\n",
       "  color: #f1f1f1;\n",
       "}\n",
       "#T_c5b55_row1_col6, #T_c5b55_row6_col0 {\n",
       "  background-color: #3c4ec2;\n",
       "  color: #f1f1f1;\n",
       "}\n",
       "#T_c5b55_row3_col0, #T_c5b55_row4_col5, #T_c5b55_row5_col1, #T_c5b55_row5_col3, #T_c5b55_row5_col4, #T_c5b55_row5_col6, #T_c5b55_row6_col1 {\n",
       "  background-color: #3b4cc0;\n",
       "  color: #f1f1f1;\n",
       "}\n",
       "#T_c5b55_row3_col1 {\n",
       "  background-color: #506bda;\n",
       "  color: #f1f1f1;\n",
       "}\n",
       "#T_c5b55_row3_col5 {\n",
       "  background-color: #4b64d5;\n",
       "  color: #f1f1f1;\n",
       "}\n",
       "#T_c5b55_row3_col6 {\n",
       "  background-color: #455cce;\n",
       "  color: #f1f1f1;\n",
       "}\n",
       "#T_c5b55_row4_col3 {\n",
       "  background-color: #445acc;\n",
       "  color: #f1f1f1;\n",
       "}\n",
       "#T_c5b55_row5_col0 {\n",
       "  background-color: #4055c8;\n",
       "  color: #f1f1f1;\n",
       "}\n",
       "#T_c5b55_row6_col3 {\n",
       "  background-color: #4e68d8;\n",
       "  color: #f1f1f1;\n",
       "}\n",
       "#T_c5b55_row6_col4 {\n",
       "  background-color: #5673e0;\n",
       "  color: #f1f1f1;\n",
       "}\n",
       "#T_c5b55_row6_col5 {\n",
       "  background-color: #536edd;\n",
       "  color: #f1f1f1;\n",
       "}\n",
       "</style>\n",
       "<table id=\"T_c5b55\">\n",
       "  <thead>\n",
       "    <tr>\n",
       "      <th class=\"blank level0\" >&nbsp;</th>\n",
       "      <th id=\"T_c5b55_level0_col0\" class=\"col_heading level0 col0\" >id</th>\n",
       "      <th id=\"T_c5b55_level0_col1\" class=\"col_heading level0 col1\" >store_nbr</th>\n",
       "      <th id=\"T_c5b55_level0_col2\" class=\"col_heading level0 col2\" >item_nbr</th>\n",
       "      <th id=\"T_c5b55_level0_col3\" class=\"col_heading level0 col3\" >unit_sales</th>\n",
       "      <th id=\"T_c5b55_level0_col4\" class=\"col_heading level0 col4\" >Year</th>\n",
       "      <th id=\"T_c5b55_level0_col5\" class=\"col_heading level0 col5\" >month</th>\n",
       "      <th id=\"T_c5b55_level0_col6\" class=\"col_heading level0 col6\" >weekday</th>\n",
       "    </tr>\n",
       "  </thead>\n",
       "  <tbody>\n",
       "    <tr>\n",
       "      <th id=\"T_c5b55_level0_row0\" class=\"row_heading level0 row0\" >id</th>\n",
       "      <td id=\"T_c5b55_row0_col0\" class=\"data row0 col0\" >1.000000</td>\n",
       "      <td id=\"T_c5b55_row0_col1\" class=\"data row0 col1\" >0.017541</td>\n",
       "      <td id=\"T_c5b55_row0_col2\" class=\"data row0 col2\" >nan</td>\n",
       "      <td id=\"T_c5b55_row0_col3\" class=\"data row0 col3\" >-0.001077</td>\n",
       "      <td id=\"T_c5b55_row0_col4\" class=\"data row0 col4\" >0.973280</td>\n",
       "      <td id=\"T_c5b55_row0_col5\" class=\"data row0 col5\" >0.019228</td>\n",
       "      <td id=\"T_c5b55_row0_col6\" class=\"data row0 col6\" >0.005202</td>\n",
       "    </tr>\n",
       "    <tr>\n",
       "      <th id=\"T_c5b55_level0_row1\" class=\"row_heading level0 row1\" >store_nbr</th>\n",
       "      <td id=\"T_c5b55_row1_col0\" class=\"data row1 col0\" >0.017541</td>\n",
       "      <td id=\"T_c5b55_row1_col1\" class=\"data row1 col1\" >1.000000</td>\n",
       "      <td id=\"T_c5b55_row1_col2\" class=\"data row1 col2\" >nan</td>\n",
       "      <td id=\"T_c5b55_row1_col3\" class=\"data row1 col3\" >0.073010</td>\n",
       "      <td id=\"T_c5b55_row1_col4\" class=\"data row1 col4\" >0.016946</td>\n",
       "      <td id=\"T_c5b55_row1_col5\" class=\"data row1 col5\" >0.001816</td>\n",
       "      <td id=\"T_c5b55_row1_col6\" class=\"data row1 col6\" >0.000368</td>\n",
       "    </tr>\n",
       "    <tr>\n",
       "      <th id=\"T_c5b55_level0_row2\" class=\"row_heading level0 row2\" >item_nbr</th>\n",
       "      <td id=\"T_c5b55_row2_col0\" class=\"data row2 col0\" >nan</td>\n",
       "      <td id=\"T_c5b55_row2_col1\" class=\"data row2 col1\" >nan</td>\n",
       "      <td id=\"T_c5b55_row2_col2\" class=\"data row2 col2\" >nan</td>\n",
       "      <td id=\"T_c5b55_row2_col3\" class=\"data row2 col3\" >nan</td>\n",
       "      <td id=\"T_c5b55_row2_col4\" class=\"data row2 col4\" >nan</td>\n",
       "      <td id=\"T_c5b55_row2_col5\" class=\"data row2 col5\" >nan</td>\n",
       "      <td id=\"T_c5b55_row2_col6\" class=\"data row2 col6\" >nan</td>\n",
       "    </tr>\n",
       "    <tr>\n",
       "      <th id=\"T_c5b55_level0_row3\" class=\"row_heading level0 row3\" >unit_sales</th>\n",
       "      <td id=\"T_c5b55_row3_col0\" class=\"data row3 col0\" >-0.001077</td>\n",
       "      <td id=\"T_c5b55_row3_col1\" class=\"data row3 col1\" >0.073010</td>\n",
       "      <td id=\"T_c5b55_row3_col2\" class=\"data row3 col2\" >nan</td>\n",
       "      <td id=\"T_c5b55_row3_col3\" class=\"data row3 col3\" >1.000000</td>\n",
       "      <td id=\"T_c5b55_row3_col4\" class=\"data row3 col4\" >0.002946</td>\n",
       "      <td id=\"T_c5b55_row3_col5\" class=\"data row3 col5\" >-0.031658</td>\n",
       "      <td id=\"T_c5b55_row3_col6\" class=\"data row3 col6\" >0.033657</td>\n",
       "    </tr>\n",
       "    <tr>\n",
       "      <th id=\"T_c5b55_level0_row4\" class=\"row_heading level0 row4\" >Year</th>\n",
       "      <td id=\"T_c5b55_row4_col0\" class=\"data row4 col0\" >0.973280</td>\n",
       "      <td id=\"T_c5b55_row4_col1\" class=\"data row4 col1\" >0.016946</td>\n",
       "      <td id=\"T_c5b55_row4_col2\" class=\"data row4 col2\" >nan</td>\n",
       "      <td id=\"T_c5b55_row4_col3\" class=\"data row4 col3\" >0.002946</td>\n",
       "      <td id=\"T_c5b55_row4_col4\" class=\"data row4 col4\" >1.000000</td>\n",
       "      <td id=\"T_c5b55_row4_col5\" class=\"data row4 col5\" >-0.092620</td>\n",
       "      <td id=\"T_c5b55_row4_col6\" class=\"data row4 col6\" >0.005800</td>\n",
       "    </tr>\n",
       "    <tr>\n",
       "      <th id=\"T_c5b55_level0_row5\" class=\"row_heading level0 row5\" >month</th>\n",
       "      <td id=\"T_c5b55_row5_col0\" class=\"data row5 col0\" >0.019228</td>\n",
       "      <td id=\"T_c5b55_row5_col1\" class=\"data row5 col1\" >0.001816</td>\n",
       "      <td id=\"T_c5b55_row5_col2\" class=\"data row5 col2\" >nan</td>\n",
       "      <td id=\"T_c5b55_row5_col3\" class=\"data row5 col3\" >-0.031658</td>\n",
       "      <td id=\"T_c5b55_row5_col4\" class=\"data row5 col4\" >-0.092620</td>\n",
       "      <td id=\"T_c5b55_row5_col5\" class=\"data row5 col5\" >1.000000</td>\n",
       "      <td id=\"T_c5b55_row5_col6\" class=\"data row5 col6\" >-0.004024</td>\n",
       "    </tr>\n",
       "    <tr>\n",
       "      <th id=\"T_c5b55_level0_row6\" class=\"row_heading level0 row6\" >weekday</th>\n",
       "      <td id=\"T_c5b55_row6_col0\" class=\"data row6 col0\" >0.005202</td>\n",
       "      <td id=\"T_c5b55_row6_col1\" class=\"data row6 col1\" >0.000368</td>\n",
       "      <td id=\"T_c5b55_row6_col2\" class=\"data row6 col2\" >nan</td>\n",
       "      <td id=\"T_c5b55_row6_col3\" class=\"data row6 col3\" >0.033657</td>\n",
       "      <td id=\"T_c5b55_row6_col4\" class=\"data row6 col4\" >0.005800</td>\n",
       "      <td id=\"T_c5b55_row6_col5\" class=\"data row6 col5\" >-0.004024</td>\n",
       "      <td id=\"T_c5b55_row6_col6\" class=\"data row6 col6\" >1.000000</td>\n",
       "    </tr>\n",
       "  </tbody>\n",
       "</table>\n"
      ],
      "text/plain": [
       "<pandas.io.formats.style.Styler at 0x13cf98d78b0>"
      ]
     },
     "execution_count": 19,
     "metadata": {},
     "output_type": "execute_result"
    }
   ],
   "source": [
    "corr = df_final_holiday.corr()\n",
    "corr.style.background_gradient(cmap='coolwarm')"
   ]
  },
  {
   "cell_type": "code",
   "execution_count": 20,
   "id": "33092fd7-36ed-4c0c-abfd-4880b4b58be2",
   "metadata": {},
   "outputs": [],
   "source": [
    "df_final_holiday['type'] = df_final_holiday['type'].replace(['Holiday', 'Work Day', 'Additional', 'Event', 'Transfer', 'Bridge'], ['1', '0', '1', '1', '1', '1'])\n",
    "#df_final_holiday['type'].astype(int)"
   ]
  },
  {
   "cell_type": "code",
   "execution_count": 21,
   "id": "9bb99771-ef44-405d-93dc-c5593c5d0677",
   "metadata": {},
   "outputs": [
    {
     "data": {
      "text/plain": [
       "0           1\n",
       "1        <NA>\n",
       "2        <NA>\n",
       "3        <NA>\n",
       "4        <NA>\n",
       "         ... \n",
       "84601       1\n",
       "84602       1\n",
       "84603       1\n",
       "84604       1\n",
       "84605       1\n",
       "Name: type, Length: 84606, dtype: Int32"
      ]
     },
     "execution_count": 21,
     "metadata": {},
     "output_type": "execute_result"
    }
   ],
   "source": [
    "df_final_holiday['type'].astype(np.float).astype(\"Int32\")"
   ]
  },
  {
   "cell_type": "code",
   "execution_count": 23,
   "id": "41ac4f41-5060-4235-a051-707a6e147a1a",
   "metadata": {},
   "outputs": [],
   "source": [
    "df_final_holiday['day']=df_final_holiday['date'].dt.day"
   ]
  },
  {
   "cell_type": "code",
   "execution_count": 25,
   "id": "5c5172c7-c88a-4a2b-988b-5a464ed7c3fb",
   "metadata": {},
   "outputs": [],
   "source": [
    "df_final={\n",
    "    'date':df_final_holiday['date'], \n",
    "    'unit_sales':df_final_holiday['unit_sales'],\n",
    "    'onpromotion':df_final_holiday['onpromotion'],\n",
    "    'weekday':df_final_holiday['weekday'],\n",
    "    'type':df_final_holiday['type'],\n",
    "    'year':df_final_holiday['Year'],\n",
    "    'day':df_final_holiday['day']\n",
    "}\n",
    "data = pd.DataFrame(df_final)"
   ]
  },
  {
   "cell_type": "code",
   "execution_count": 26,
   "id": "b0a1cb23-8d66-4ff2-ab6f-a9e45e82764f",
   "metadata": {},
   "outputs": [
    {
     "data": {
      "text/html": [
       "<div>\n",
       "<style scoped>\n",
       "    .dataframe tbody tr th:only-of-type {\n",
       "        vertical-align: middle;\n",
       "    }\n",
       "\n",
       "    .dataframe tbody tr th {\n",
       "        vertical-align: top;\n",
       "    }\n",
       "\n",
       "    .dataframe thead th {\n",
       "        text-align: right;\n",
       "    }\n",
       "</style>\n",
       "<table border=\"1\" class=\"dataframe\">\n",
       "  <thead>\n",
       "    <tr style=\"text-align: right;\">\n",
       "      <th></th>\n",
       "      <th>date</th>\n",
       "      <th>unit_sales</th>\n",
       "      <th>onpromotion</th>\n",
       "      <th>weekday</th>\n",
       "      <th>type</th>\n",
       "      <th>year</th>\n",
       "      <th>day</th>\n",
       "    </tr>\n",
       "  </thead>\n",
       "  <tbody>\n",
       "    <tr>\n",
       "      <th>84601</th>\n",
       "      <td>2017-12-08</td>\n",
       "      <td>51</td>\n",
       "      <td>False</td>\n",
       "      <td>4</td>\n",
       "      <td>1</td>\n",
       "      <td>2017</td>\n",
       "      <td>8</td>\n",
       "    </tr>\n",
       "    <tr>\n",
       "      <th>84602</th>\n",
       "      <td>2017-12-08</td>\n",
       "      <td>97</td>\n",
       "      <td>False</td>\n",
       "      <td>4</td>\n",
       "      <td>1</td>\n",
       "      <td>2017</td>\n",
       "      <td>8</td>\n",
       "    </tr>\n",
       "    <tr>\n",
       "      <th>84603</th>\n",
       "      <td>2017-12-08</td>\n",
       "      <td>97</td>\n",
       "      <td>False</td>\n",
       "      <td>4</td>\n",
       "      <td>1</td>\n",
       "      <td>2017</td>\n",
       "      <td>8</td>\n",
       "    </tr>\n",
       "    <tr>\n",
       "      <th>84604</th>\n",
       "      <td>2017-12-08</td>\n",
       "      <td>17</td>\n",
       "      <td>False</td>\n",
       "      <td>4</td>\n",
       "      <td>1</td>\n",
       "      <td>2017</td>\n",
       "      <td>8</td>\n",
       "    </tr>\n",
       "    <tr>\n",
       "      <th>84605</th>\n",
       "      <td>2017-12-08</td>\n",
       "      <td>17</td>\n",
       "      <td>False</td>\n",
       "      <td>4</td>\n",
       "      <td>1</td>\n",
       "      <td>2017</td>\n",
       "      <td>8</td>\n",
       "    </tr>\n",
       "  </tbody>\n",
       "</table>\n",
       "</div>"
      ],
      "text/plain": [
       "            date  unit_sales onpromotion  weekday type  year  day\n",
       "84601 2017-12-08          51       False        4    1  2017    8\n",
       "84602 2017-12-08          97       False        4    1  2017    8\n",
       "84603 2017-12-08          97       False        4    1  2017    8\n",
       "84604 2017-12-08          17       False        4    1  2017    8\n",
       "84605 2017-12-08          17       False        4    1  2017    8"
      ]
     },
     "execution_count": 26,
     "metadata": {},
     "output_type": "execute_result"
    }
   ],
   "source": [
    "data.tail()"
   ]
  },
  {
   "cell_type": "code",
   "execution_count": 27,
   "id": "25102ba0-8f7c-401a-a22d-890e841d8959",
   "metadata": {},
   "outputs": [
    {
     "data": {
      "text/plain": [
       "<AxesSubplot:>"
      ]
     },
     "execution_count": 27,
     "metadata": {},
     "output_type": "execute_result"
    },
    {
     "data": {
      "image/png": "[encoded data removed]",
      "text/plain": [
       "<Figure size 432x288 with 1 Axes>"
      ]
     },
     "metadata": {
      "needs_background": "light"
     },
     "output_type": "display_data"
    }
   ],
   "source": [
    "data.plot()"
   ]
  },
  {
   "cell_type": "code",
   "execution_count": 28,
   "id": "e7da86ce-b077-4799-babc-6e925e3dd645",
   "metadata": {},
   "outputs": [],
   "source": [
    "data2 = data.copy()"
   ]
  },
  {
   "cell_type": "code",
   "execution_count": 29,
   "id": "3dfe0e50-36a8-4a84-824b-81dceae334dd",
   "metadata": {},
   "outputs": [],
   "source": [
    "data2.index = data.date"
   ]
  },
  {
   "cell_type": "code",
   "execution_count": 30,
   "id": "2afb488d-5748-4026-b6ec-17a339c9c417",
   "metadata": {},
   "outputs": [
    {
     "data": {
      "text/plain": [
       "date\n",
       "2013-01-01       1\n",
       "2013-01-02    <NA>\n",
       "2013-01-02    <NA>\n",
       "2013-01-02    <NA>\n",
       "2013-01-02    <NA>\n",
       "              ... \n",
       "2017-12-08       1\n",
       "2017-12-08       1\n",
       "2017-12-08       1\n",
       "2017-12-08       1\n",
       "2017-12-08       1\n",
       "Name: type, Length: 84606, dtype: Int32"
      ]
     },
     "execution_count": 30,
     "metadata": {},
     "output_type": "execute_result"
    }
   ],
   "source": [
    "data2['type'].astype(np.float).astype(\"Int32\")"
   ]
  },
  {
   "cell_type": "code",
   "execution_count": 31,
   "id": "6986bb0f-6977-4459-851d-e166ab557a7b",
   "metadata": {},
   "outputs": [
    {
     "data": {
      "text/plain": [
       "date           datetime64[ns]\n",
       "unit_sales              int64\n",
       "onpromotion            object\n",
       "weekday                 int64\n",
       "type                   object\n",
       "year                    int64\n",
       "day                     int64\n",
       "dtype: object"
      ]
     },
     "execution_count": 31,
     "metadata": {},
     "output_type": "execute_result"
    }
   ],
   "source": [
    "data2.dtypes"
   ]
  },
  {
   "cell_type": "code",
   "execution_count": 32,
   "id": "3acd49de-4858-4fae-bddc-22df95a943aa",
   "metadata": {},
   "outputs": [],
   "source": [
    "data_13_16=data2['2013':'2016']"
   ]
  },
  {
   "cell_type": "code",
   "execution_count": 33,
   "id": "e875dc2b-2c5f-4828-8ef4-23a069137583",
   "metadata": {},
   "outputs": [
    {
     "data": {
      "text/html": [
       "<div>\n",
       "<style scoped>\n",
       "    .dataframe tbody tr th:only-of-type {\n",
       "        vertical-align: middle;\n",
       "    }\n",
       "\n",
       "    .dataframe tbody tr th {\n",
       "        vertical-align: top;\n",
       "    }\n",
       "\n",
       "    .dataframe thead th {\n",
       "        text-align: right;\n",
       "    }\n",
       "</style>\n",
       "<table border=\"1\" class=\"dataframe\">\n",
       "  <thead>\n",
       "    <tr style=\"text-align: right;\">\n",
       "      <th></th>\n",
       "      <th>date</th>\n",
       "      <th>unit_sales</th>\n",
       "      <th>onpromotion</th>\n",
       "      <th>weekday</th>\n",
       "      <th>type</th>\n",
       "      <th>year</th>\n",
       "      <th>day</th>\n",
       "    </tr>\n",
       "    <tr>\n",
       "      <th>date</th>\n",
       "      <th></th>\n",
       "      <th></th>\n",
       "      <th></th>\n",
       "      <th></th>\n",
       "      <th></th>\n",
       "      <th></th>\n",
       "      <th></th>\n",
       "    </tr>\n",
       "  </thead>\n",
       "  <tbody>\n",
       "    <tr>\n",
       "      <th>2016-12-31</th>\n",
       "      <td>2016-12-31</td>\n",
       "      <td>66</td>\n",
       "      <td>True</td>\n",
       "      <td>5</td>\n",
       "      <td>1</td>\n",
       "      <td>2016</td>\n",
       "      <td>31</td>\n",
       "    </tr>\n",
       "    <tr>\n",
       "      <th>2016-12-31</th>\n",
       "      <td>2016-12-31</td>\n",
       "      <td>46</td>\n",
       "      <td>True</td>\n",
       "      <td>5</td>\n",
       "      <td>1</td>\n",
       "      <td>2016</td>\n",
       "      <td>31</td>\n",
       "    </tr>\n",
       "    <tr>\n",
       "      <th>2016-12-31</th>\n",
       "      <td>2016-12-31</td>\n",
       "      <td>35</td>\n",
       "      <td>False</td>\n",
       "      <td>5</td>\n",
       "      <td>1</td>\n",
       "      <td>2016</td>\n",
       "      <td>31</td>\n",
       "    </tr>\n",
       "    <tr>\n",
       "      <th>2016-12-31</th>\n",
       "      <td>2016-12-31</td>\n",
       "      <td>88</td>\n",
       "      <td>False</td>\n",
       "      <td>5</td>\n",
       "      <td>1</td>\n",
       "      <td>2016</td>\n",
       "      <td>31</td>\n",
       "    </tr>\n",
       "    <tr>\n",
       "      <th>2016-12-31</th>\n",
       "      <td>2016-12-31</td>\n",
       "      <td>15</td>\n",
       "      <td>False</td>\n",
       "      <td>5</td>\n",
       "      <td>1</td>\n",
       "      <td>2016</td>\n",
       "      <td>31</td>\n",
       "    </tr>\n",
       "  </tbody>\n",
       "</table>\n",
       "</div>"
      ],
      "text/plain": [
       "                 date  unit_sales onpromotion  weekday type  year  day\n",
       "date                                                                  \n",
       "2016-12-31 2016-12-31          66        True        5    1  2016   31\n",
       "2016-12-31 2016-12-31          46        True        5    1  2016   31\n",
       "2016-12-31 2016-12-31          35       False        5    1  2016   31\n",
       "2016-12-31 2016-12-31          88       False        5    1  2016   31\n",
       "2016-12-31 2016-12-31          15       False        5    1  2016   31"
      ]
     },
     "execution_count": 33,
     "metadata": {},
     "output_type": "execute_result"
    }
   ],
   "source": [
    "data_13_16.tail()"
   ]
  },
  {
   "cell_type": "code",
   "execution_count": 34,
   "id": "4e28a078-8b97-46e4-a0c9-8b4df3d5dc66",
   "metadata": {},
   "outputs": [],
   "source": [
    "data_13_16.to_csv(\"data_13_16.csv\")"
   ]
  },
  {
   "cell_type": "code",
   "execution_count": null,
   "id": "2c56ab7d-ba82-4fdc-9f00-f7db8c41f103",
   "metadata": {},
   "outputs": [],
   "source": [
    "data_13_16.tail()"
   ]
  },
  {
   "cell_type": "code",
   "execution_count": 51,
   "id": "9c2bed48-58fd-4a4b-8864-09ae278121c5",
   "metadata": {},
   "outputs": [],
   "source": [
    "x={'date':data_13_16['date'], 'onpromotion':data_13_16['onpromotion'], 'weekday':data_13_16['weekday'], 'type':data_13_16['type'], 'year':data_13_16['year'],'day':data_13_16['day']}\n",
    "x_data = pd.DataFrame(x)\n",
    "y={'unit_sales':data_13_16['unit_sales']}\n",
    "y_data = pd.DataFrame(y)\n",
    "#x_train, x_test, y_train, y_test = train_test_split(x,y,test_size=0.2)"
   ]
  },
  {
   "cell_type": "code",
   "execution_count": 96,
   "id": "42ad9e3f-8f47-40e7-a0cc-4a6d45aa7607",
   "metadata": {},
   "outputs": [
    {
     "data": {
      "text/plain": [
       "unit_sales    0\n",
       "dtype: int64"
      ]
     },
     "execution_count": 96,
     "metadata": {},
     "output_type": "execute_result"
    }
   ],
   "source": [
    "y_data.min()"
   ]
  },
  {
   "cell_type": "code",
   "execution_count": 97,
   "id": "4bf55858-afff-4afe-94d6-8abced223ca3",
   "metadata": {},
   "outputs": [],
   "source": [
    "y_data.replace(-1797,0,inplace=True)\n",
    "y_data.replace(-107,0,inplace=True)"
   ]
  },
  {
   "cell_type": "code",
   "execution_count": 98,
   "id": "5968db5a-e9c2-432b-a563-a429879141d8",
   "metadata": {},
   "outputs": [
    {
     "data": {
      "text/plain": [
       "(72344, 6)"
      ]
     },
     "execution_count": 98,
     "metadata": {},
     "output_type": "execute_result"
    }
   ],
   "source": [
    "x_data.shape"
   ]
  },
  {
   "cell_type": "code",
   "execution_count": 99,
   "id": "3226708a-99c4-422d-b90d-f8473b968529",
   "metadata": {},
   "outputs": [],
   "source": [
    "x_train, x_test, y_train, y_test = train_test_split(x_data, y_data, test_size=0.2)"
   ]
  },
  {
   "cell_type": "code",
   "execution_count": 100,
   "id": "59a2805b-26e9-46a2-aab9-05d6bcf0a35a",
   "metadata": {},
   "outputs": [],
   "source": [
    "from sklearn.ensemble import RandomForestRegressor"
   ]
  },
  {
   "cell_type": "code",
   "execution_count": 101,
   "id": "1010d90e-56b9-4b2a-85ba-c59f48e36afb",
   "metadata": {},
   "outputs": [],
   "source": [
    "reggressor=RandomForestRegressor(n_estimators=10, random_state=0)"
   ]
  },
  {
   "cell_type": "code",
   "execution_count": 102,
   "id": "3a4c98f5-ac51-4761-9078-ef4630e7c614",
   "metadata": {},
   "outputs": [
    {
     "data": {
      "text/html": [
       "<div>\n",
       "<style scoped>\n",
       "    .dataframe tbody tr th:only-of-type {\n",
       "        vertical-align: middle;\n",
       "    }\n",
       "\n",
       "    .dataframe tbody tr th {\n",
       "        vertical-align: top;\n",
       "    }\n",
       "\n",
       "    .dataframe thead th {\n",
       "        text-align: right;\n",
       "    }\n",
       "</style>\n",
       "<table border=\"1\" class=\"dataframe\">\n",
       "  <thead>\n",
       "    <tr style=\"text-align: right;\">\n",
       "      <th></th>\n",
       "      <th>unit_sales</th>\n",
       "    </tr>\n",
       "    <tr>\n",
       "      <th>date</th>\n",
       "      <th></th>\n",
       "    </tr>\n",
       "  </thead>\n",
       "  <tbody>\n",
       "    <tr>\n",
       "      <th>2013-01-16</th>\n",
       "      <td>43</td>\n",
       "    </tr>\n",
       "    <tr>\n",
       "      <th>2016-10-21</th>\n",
       "      <td>5</td>\n",
       "    </tr>\n",
       "    <tr>\n",
       "      <th>2016-12-24</th>\n",
       "      <td>57</td>\n",
       "    </tr>\n",
       "    <tr>\n",
       "      <th>2013-09-12</th>\n",
       "      <td>9</td>\n",
       "    </tr>\n",
       "    <tr>\n",
       "      <th>2016-05-12</th>\n",
       "      <td>8</td>\n",
       "    </tr>\n",
       "  </tbody>\n",
       "</table>\n",
       "</div>"
      ],
      "text/plain": [
       "            unit_sales\n",
       "date                  \n",
       "2013-01-16          43\n",
       "2016-10-21           5\n",
       "2016-12-24          57\n",
       "2013-09-12           9\n",
       "2016-05-12           8"
      ]
     },
     "execution_count": 102,
     "metadata": {},
     "output_type": "execute_result"
    }
   ],
   "source": [
    "y_train.head()"
   ]
  },
  {
   "cell_type": "code",
   "execution_count": 103,
   "id": "ab58c268-f842-45e5-aeb1-6b35503aa3e9",
   "metadata": {},
   "outputs": [
    {
     "name": "stderr",
     "output_type": "stream",
     "text": [
      "C:\\Users\\MALAV\\AppData\\Local\\Temp\\ipykernel_14828\\3401013996.py:1: DataConversionWarning: A column-vector y was passed when a 1d array was expected. Please change the shape of y to (n_samples,), for example using ravel().\n",
      "  reggressor.fit(x_train.iloc[:,1:].fillna(0), y_train)\n"
     ]
    },
    {
     "data": {
      "text/plain": [
       "RandomForestRegressor(n_estimators=10, random_state=0)"
      ]
     },
     "execution_count": 103,
     "metadata": {},
     "output_type": "execute_result"
    }
   ],
   "source": [
    "reggressor.fit(x_train.iloc[:,1:].fillna(0), y_train)"
   ]
  },
  {
   "cell_type": "code",
   "execution_count": 104,
   "id": "fe923b92-bd8a-417b-b574-c8cdc2205657",
   "metadata": {},
   "outputs": [],
   "source": [
    "y_pred=reggressor.predict(x_test.iloc[:,1:].fillna(0))"
   ]
  },
  {
   "cell_type": "code",
   "execution_count": 105,
   "id": "036310c0-6b50-4f2d-9086-7caff2967fe0",
   "metadata": {},
   "outputs": [
    {
     "name": "stdout",
     "output_type": "stream",
     "text": [
      "Mean Absolute Error: 29.748186988920054\n"
     ]
    }
   ],
   "source": [
    "from sklearn import metrics  \n",
    "print('Mean Absolute Error:', metrics.mean_absolute_error(y_test, y_pred))  \n",
    "#print('Mean Squared Error:', metrics.mean_squared)"
   ]
  },
  {
   "cell_type": "code",
   "execution_count": 106,
   "id": "1ce71b3b-55d9-4fb9-a7ae-5b5d266bdfc7",
   "metadata": {},
   "outputs": [],
   "source": [
    "x_data['onpromotion'] = x_data['onpromotion'].fillna(0)\n",
    "x_data['type'] = x_data['type'].fillna(0)"
   ]
  },
  {
   "cell_type": "code",
   "execution_count": 107,
   "id": "07368333-aee4-4795-b2b3-f630323c1732",
   "metadata": {},
   "outputs": [],
   "source": [
    "x_data[\"onpromotion\"] = pd.to_numeric(x_data[\"onpromotion\"])\n",
    "x_data[\"type\"] = pd.to_numeric(x_data[\"type\"])"
   ]
  },
  {
   "cell_type": "code",
   "execution_count": 108,
   "id": "06a1b28c-191b-4ea8-83a6-f96bd9a38266",
   "metadata": {},
   "outputs": [
    {
     "data": {
      "text/plain": [
       "date           datetime64[ns]\n",
       "onpromotion             int64\n",
       "weekday                 int64\n",
       "type                    int64\n",
       "year                    int64\n",
       "day                     int64\n",
       "dtype: object"
      ]
     },
     "execution_count": 108,
     "metadata": {},
     "output_type": "execute_result"
    }
   ],
   "source": [
    "x_data.dtypes"
   ]
  },
  {
   "cell_type": "code",
   "execution_count": 109,
   "id": "1add587d-ce04-4716-bd36-8d44c84b02ec",
   "metadata": {},
   "outputs": [
    {
     "name": "stdout",
     "output_type": "stream",
     "text": [
      "14469\n",
      "(14469, 1)\n"
     ]
    }
   ],
   "source": [
    "print(len(y_pred))\n",
    "print(y_test.shape)"
   ]
  },
  {
   "cell_type": "code",
   "execution_count": 110,
   "id": "c34133a7-bd72-4a48-8193-0a1bca133eb0",
   "metadata": {},
   "outputs": [],
   "source": [
    "y_pred_df  = pd.DataFrame(data = y_pred, index = y_test.index)"
   ]
  },
  {
   "cell_type": "code",
   "execution_count": 111,
   "id": "7ed3f39c-5f31-49b2-b3fa-05e0c34e3361",
   "metadata": {},
   "outputs": [
    {
     "data": {
      "text/plain": [
       "<AxesSubplot:xlabel='date'>"
      ]
     },
     "execution_count": 111,
     "metadata": {},
     "output_type": "execute_result"
    },
    {
     "data": {
      "image/png": "[encoded data removed]",
      "text/plain": [
       "<Figure size 432x288 with 1 Axes>"
      ]
     },
     "metadata": {
      "needs_background": "light"
     },
     "output_type": "display_data"
    },
    {
     "data": {
      "image/png": "[encoded data removed]",
      "text/plain": [
       "<Figure size 432x288 with 1 Axes>"
      ]
     },
     "metadata": {
      "needs_background": "light"
     },
     "output_type": "display_data"
    }
   ],
   "source": [
    "y_data.plot()\n",
    "y_pred_df.plot()\n",
    "#plt.plot(y_pred)"
   ]
  },
  {
   "cell_type": "markdown",
   "id": "85a9db42-fdec-4ae5-913a-9336e77ba1d6",
   "metadata": {},
   "source": [
    "# SARIMAX"
   ]
  },
  {
   "cell_type": "code",
   "execution_count": null,
   "id": "268d26d9-da4e-4ab3-8d44-7cd8ae061a6d",
   "metadata": {},
   "outputs": [],
   "source": []
  },
  {
   "cell_type": "code",
   "execution_count": null,
   "id": "72e07f6d-1e01-48dc-98f3-1b92daedb10f",
   "metadata": {},
   "outputs": [],
   "source": []
  },
  {
   "cell_type": "code",
   "execution_count": null,
   "id": "5e706acd-b791-489d-be60-ed3abcd3717c",
   "metadata": {},
   "outputs": [],
   "source": []
  }
 ],
 "metadata": {
  "kernelspec": {
   "display_name": "Python 3 (ipykernel)",
   "language": "python",
   "name": "python3"
  },
  "language_info": {
   "codemirror_mode": {
    "name": "ipython",
    "version": 3
   },
   "file_extension": ".py",
   "mimetype": "text/x-python",
   "name": "python",
   "nbconvert_exporter": "python",
   "pygments_lexer": "ipython3",
   "version": "3.9.12"
  }
 },
 "nbformat": 4,
 "nbformat_minor": 5
}
